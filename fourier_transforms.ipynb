{
 "cells": [
  {
   "cell_type": "markdown",
   "metadata": {},
   "source": [
    "# FUN WITH FOURIER"
   ]
  },
  {
   "cell_type": "code",
   "execution_count": null,
   "metadata": {},
   "outputs": [],
   "source": [
    "# notebook for playing with fourier transforms\n",
    "\n",
    "# import\n",
    "import numpy as np\n",
    "import matplotlib.pyplot as plt\n",
    "import math\n",
    "import copy\n",
    "import os\n",
    "from scipy import misc\n",
    "import imageio\n",
    "from scipy import signal\n",
    "from scipy.fft import fft, fftfreq, ifft2, fft2\n",
    "np.random.seed(420)\n",
    "%matplotlib inline\n",
    "plt.rcParams['image.cmap'] = 'gray'\n",
    "plt.rcParams['figure.figsize'] = (10.0, 10.0)\n",
    "plt.rcParams['font.size'] = 22"
   ]
  },
  {
   "cell_type": "markdown",
   "metadata": {},
   "source": [
    "# 1D Fourier Transforms"
   ]
  },
  {
   "cell_type": "code",
   "execution_count": null,
   "metadata": {},
   "outputs": [],
   "source": [
    "# plot the DFT for a sum of sine waves\n",
    "\n",
    "\n",
    "# Number of sample points\n",
    "N = 600\n",
    "# sample spacing\n",
    "T = 1.0 / 800.0\n",
    "\n",
    "# time points\n",
    "x = np.linspace(0.0, N*T, N, endpoint=False)\n",
    "\n",
    "# signal at each time point\n",
    "y = np.sin(50.0 * 2.0*np.pi*x) + 0.5*np.sin(80.0 * 2.0*np.pi*x)\n",
    "\n",
    "# fourier transform\n",
    "yf = fft(y)\n",
    "xf = fftfreq(N, T)[:N//2]\n",
    "\n",
    "plt.plot(xf, 2.0/N * np.abs(yf[0:N//2]))\n",
    "plt.grid()\n",
    "plt.show()\n"
   ]
  },
  {
   "cell_type": "code",
   "execution_count": null,
   "metadata": {},
   "outputs": [],
   "source": [
    "# Now show how you can reduce spectral splatter with a better window than a square\n",
    "# go to https://docs.scipy.org/doc/scipy/reference/signal.windows.html for other windows\n",
    "\n",
    "from scipy.signal.windows import blackman\n",
    "# use a window\n",
    "wind = blackman(N)\n",
    "\n",
    "# plot the window shape\n",
    "plt.plot(np.arange(N),wind)\n",
    "plt.show()"
   ]
  },
  {
   "cell_type": "code",
   "execution_count": null,
   "metadata": {},
   "outputs": [],
   "source": [
    "# plot the signal from above with and without the window\n",
    "# IN LOG SPACE ON Y AXIS\n",
    "\n",
    "# ywf is with window fft\n",
    "ywf = fft(y*wind)\n",
    "xf = fftfreq(N, T)[:N//2]\n",
    "\n",
    "# plot\n",
    "plt.semilogy(xf[1:N//2], 2.0/N * np.abs(yf[1:N//2]), '-b')\n",
    "plt.semilogy(xf[1:N//2], 2.0/N * np.abs(ywf[1:N//2]), '-r')\n",
    "plt.legend(['FFT', 'FFT w. window'])\n",
    "plt.grid()\n",
    "plt.show()"
   ]
  },
  {
   "cell_type": "markdown",
   "metadata": {},
   "source": [
    "## Implement averaging over multiple segments of your signal"
   ]
  },
  {
   "cell_type": "code",
   "execution_count": null,
   "metadata": {},
   "outputs": [],
   "source": [
    "# try cutting the signal into M segments and fourier transforming each segment"
   ]
  },
  {
   "cell_type": "markdown",
   "metadata": {},
   "source": [
    "# 2D Fourier Transforms"
   ]
  },
  {
   "cell_type": "code",
   "execution_count": null,
   "metadata": {},
   "outputs": [],
   "source": [
    "# plot 2D waves\n",
    "\n",
    "\n",
    "# number of samples\n",
    "N = 30\n",
    "# frequency\n",
    "freqx = 5\n",
    "freqy = 5\n",
    "\n",
    "# make all zeros except at frequency we want\n",
    "xf = np.zeros((N,N))\n",
    "xf[freqy%N, freqx%N] = 1\n",
    "xf[(N-freqy)%N, (N-freqx)%N] = 1\n",
    "\n",
    "# perform inverse fourier transform\n",
    "Z = ifft2(xf)\n",
    "\n",
    "# plot\n",
    "f, ((ax1, ax2)) = plt.subplots(1, 2, sharex='col', sharey='row')\n",
    "ax1.imshow(xf)\n",
    "ax2.imshow(np.real(Z))\n",
    "plt.show()"
   ]
  },
  {
   "cell_type": "markdown",
   "metadata": {},
   "source": [
    "## DFT of image"
   ]
  },
  {
   "cell_type": "code",
   "execution_count": null,
   "metadata": {},
   "outputs": [],
   "source": [
    "# load the image\n",
    "\n",
    "image = imageio.imread('asst03_gatsby_image.bmp')\n",
    "print (\"image shape: \", image.shape)\n",
    "plt.imshow(image)\n",
    "plt.show()"
   ]
  },
  {
   "cell_type": "code",
   "execution_count": null,
   "metadata": {},
   "outputs": [],
   "source": [
    "# 2D fourier transform of image\n",
    "yf2 = fft2(image)\n",
    "\n",
    "plt.imshow(np.log(np.abs(yf2)))\n",
    "plt.show()"
   ]
  },
  {
   "cell_type": "code",
   "execution_count": null,
   "metadata": {},
   "outputs": [],
   "source": [
    "# first modify the fourier transform of the image\n",
    "mod_yf2 = yf2\n",
    "mod_yf2[100:,100:] = 0.0\n",
    "Z2 = ifft2(mod_yf2)\n",
    "\n",
    "# plot new image\n",
    "plt.imshow(np.abs(Z2))\n",
    "plt.show()"
   ]
  },
  {
   "cell_type": "markdown",
   "metadata": {},
   "source": [
    "# Possible fun with audio signals (untested haha)"
   ]
  },
  {
   "cell_type": "code",
   "execution_count": null,
   "metadata": {},
   "outputs": [],
   "source": [
    "from scipy.io import wavfile\n",
    "\n",
    "samplerate = 44100\n",
    "\n",
    "samplerate, data = wavfile.read(wav_fname)\n",
    "print(f\"number of channels = {data.shape[1]}\")\n",
    "\n",
    "# Remember SAMPLE_RATE = 44100 Hz is our playback rate\n",
    "wavefile.write(\"mysinewave.wav\", samplerate, normalized_tone)"
   ]
  }
 ],
 "metadata": {
  "kernelspec": {
   "display_name": "Python 3",
   "language": "python",
   "name": "python3"
  },
  "language_info": {
   "codemirror_mode": {
    "name": "ipython",
    "version": 3
   },
   "file_extension": ".py",
   "mimetype": "text/x-python",
   "name": "python",
   "nbconvert_exporter": "python",
   "pygments_lexer": "ipython3",
   "version": "3.7.6"
  }
 },
 "nbformat": 4,
 "nbformat_minor": 4
}
