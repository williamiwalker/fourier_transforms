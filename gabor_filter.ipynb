{
 "cells": [
  {
   "cell_type": "code",
   "execution_count": null,
   "metadata": {},
   "outputs": [],
   "source": [
    "# notebook for gabor filter exercises\n",
    "\n",
    "# import\n",
    "import numpy as np\n",
    "import matplotlib.pyplot as plt\n",
    "import math\n",
    "import copy\n",
    "import os\n",
    "from scipy import misc\n",
    "import imageio\n",
    "from scipy import signal\n",
    "np.random.seed(420)\n",
    "%matplotlib inline\n",
    "plt.rcParams['image.cmap'] = 'gray'\n",
    "plt.rcParams['figure.figsize'] = (10.0, 10.0)\n",
    "plt.rcParams['font.size'] = 22"
   ]
  },
  {
   "cell_type": "markdown",
   "metadata": {},
   "source": [
    "# Problem 1\n",
    "\n",
    "A V1 cell has a response kernel\n",
    "\n",
    "\\begin{equation}\n",
    "f_{\\alpha,a,\\psi} = r_{max}\\exp\\left(-\\frac{x^2}{2\\sigma^2_x}-\\frac{y^2}{2\\sigma^2_y}\\right)\\text{cos}(a\\text{cos}(\\psi)x + a \\text{sin}(\\psi)y-\\alpha)\n",
    "\\end{equation}\n",
    "\n",
    "where $\\alpha$ is the preferred phase, $\\psi$ is the preferred orientation, and $a$ is the preferred frequency. We stimulate it with the following (static) stimulus:\n",
    "\n",
    "\\begin{equation}\n",
    "s(x,y) = B\\cos\\left(b\\cos(\\phi)x + b\\sin(\\phi)y - \\beta\\right)\n",
    "\\end{equation}\n",
    "\n",
    "Plot the response\n",
    "\\begin{equation}\n",
    "L_{\\alpha,a,\\psi}(x_0,y_0,\\phi,\\beta,b) = \\int dx\\, dy\\, f_{\\alpha,a,\\psi}(x,y)s(x,y)\n",
    "\\end{equation}"
   ]
  },
  {
   "cell_type": "code",
   "execution_count": null,
   "metadata": {},
   "outputs": [],
   "source": [
    "# Define a function that outputs a gabor filter\n",
    "\n",
    "def L(x, y, b, phi, a=1, psi=0, sigma_x=1, sigma_y=1, alpha=1, beta=0, B=1, rmax=1):\n",
    " left_cos = np.cos(b * np.cos(phi) * x + b * np.sin(phi) * y - alpha - beta)\n",
    " left_exp = np.exp(-0.5 * ((sigma_x**2) * (b * np.cos(phi) - a * np.cos(psi))**2 + (sigma_y**2) * (b *\n",
    "np.sin(phi) - a * np.sin(psi))**2))\n",
    " right_cos = np.cos(b * np.cos(phi) * x + b * np.sin(phi) * y + alpha - beta)\n",
    " right_exp = np.exp(-0.5 * ((sigma_x**2) * (a * np.cos(psi) + b * np.cos(phi))**2 + (sigma_y**2) * (a * np.sin(psi) + b * np.sin(phi))**2))\n",
    "\n",
    " return B * rmax * sigma_x * sigma_y * math.pi * (left_cos * left_exp + right_cos * right_exp)"
   ]
  },
  {
   "cell_type": "code",
   "execution_count": null,
   "metadata": {},
   "outputs": [],
   "source": [
    "# Plot the orientation selectivity\n",
    "\n",
    "orientations = np.linspace(0,2*math.pi,50)#math.pi * np.arange(-10,11) / 8\n",
    "responses = [L(0, 0, 1, phi, psi=1) for phi in orientations]\n",
    "plt.plot(orientations, responses, lw=3)\n",
    "plt.grid(alpha=0.5)\n",
    "plt.xlabel(\"stimulus orientation ($\\phi$)\")\n",
    "plt.ylabel(\"cell response (L)\")\n",
    "plt.title(\"orientation selectivity\")\n",
    "plt.show()"
   ]
  },
  {
   "cell_type": "code",
   "execution_count": null,
   "metadata": {},
   "outputs": [],
   "source": [
    "# plot the selectivity to stimulus frequency\n",
    "\n",
    "frequencies = np.linspace(0, 5, num=50)\n",
    "responses = [L(0, 0, b, 0) for b in frequencies]\n",
    "plt.plot(frequencies, responses, lw=3)\n",
    "plt.xlabel(\"stimulus frequency (b)\")\n",
    "plt.ylabel(\"cell response (L)\")\n",
    "plt.title(\"frequency selectivity\")\n",
    "plt.grid(alpha=0.5)\n",
    "plt.show()"
   ]
  },
  {
   "cell_type": "markdown",
   "metadata": {},
   "source": [
    "# Problem 2\n",
    "\n",
    "Images seen through visual receptive fields"
   ]
  },
  {
   "cell_type": "markdown",
   "metadata": {},
   "source": [
    "## 1) Lets look at the image"
   ]
  },
  {
   "cell_type": "code",
   "execution_count": null,
   "metadata": {},
   "outputs": [],
   "source": [
    "# load the image\n",
    "\n",
    "image = imageio.imread('asst03_gatsby_image.bmp')\n",
    "print (\"image shape: \", image.shape)\n",
    "plt.imshow(image)\n",
    "plt.show()"
   ]
  },
  {
   "cell_type": "markdown",
   "metadata": {},
   "source": [
    "## 2) Construct an on-center difference-of-gaussians (DOG) centre-surround receptive field centred at 0:\n",
    "  \\begin{equation}\n",
    "  D(x,y) = \\frac{1}{2\\pi\\sigma_c^2} e^{-(x^2 + y^2)/2\\sigma_c^2}\n",
    "  - \\frac{1}{2\\pi\\sigma_s^2} e^{-(x^2 + y^2)/2\\sigma_s^2}\n",
    "  \\end{equation}"
   ]
  },
  {
   "cell_type": "code",
   "execution_count": null,
   "metadata": {},
   "outputs": [],
   "source": [
    "# define a gaussian function and use it to define a Difference-of-Gaussians\n",
    "\n",
    "def gauss2d(x, y, sigma):\n",
    "    # 2D gaussian centered at 0\n",
    "    # FILL OUT\n",
    "    return 1\n",
    "\n",
    "def DoG(x, y, sigma_center=1.5, sigma_surround=3.0):\n",
    "    # Difference of Gaussians (use gauss2D)\n",
    "    # FILL OUT\n",
    "    return 1"
   ]
  },
  {
   "cell_type": "code",
   "execution_count": null,
   "metadata": {},
   "outputs": [],
   "source": [
    "# plot the Difference-of-Gaussians\n",
    "\n",
    "n = 21\n",
    "RF = np.zeros((n, n))\n",
    "for x in range(-10, 11):\n",
    "    for y in range(-10, 11):\n",
    "        RF[x+10, y+10] = DoG(x, y)\n",
    "plt.imshow(RF, interpolation='none', cmap=\"inferno\")\n",
    "plt.colorbar()\n",
    "plt.show()"
   ]
  },
  {
   "cell_type": "markdown",
   "metadata": {},
   "source": [
    "## 3) Suppose you had a cell with a receptive field like this centered at each pixel in the image.  Show the image as represented by the activity of these cells, placing the cells in topographic order according to their centres.  (Hint: this is effectively a 2D convolution.  Why?)."
   ]
  },
  {
   "cell_type": "code",
   "execution_count": null,
   "metadata": {},
   "outputs": [],
   "source": [
    "# function that convolves an image with the receptive field\n",
    "\n",
    "def Convolve(image, recep_field):\n",
    "    # convolve image with receptive field\n",
    "    # FILL OUT\n",
    "    return 1"
   ]
  },
  {
   "cell_type": "code",
   "execution_count": null,
   "metadata": {},
   "outputs": [],
   "source": [
    "# plot response of Difference of Gaussians\n",
    "\n",
    "DoG_img = Convolve(image, RF)\n",
    "plt.imshow(DoG_img, interpolation='none')\n",
    "plt.colorbar()\n",
    "plt.show()"
   ]
  },
  {
   "cell_type": "markdown",
   "metadata": {},
   "source": [
    "## 4) Threshold the activity image (i.e. set all the values above some cutoff to 1, all below to 0).  Does this look like the cells are detecting edges?  Tune the parameters of the DOG RF and the threshold to improve the quality of the edge detection as much as you can."
   ]
  },
  {
   "cell_type": "code",
   "execution_count": null,
   "metadata": {},
   "outputs": [],
   "source": [
    "# define threshold function\n",
    "\n",
    "def threshold(image, val):\n",
    "    return (image > val).astype(float)"
   ]
  },
  {
   "cell_type": "code",
   "execution_count": null,
   "metadata": {},
   "outputs": [],
   "source": [
    "# threshold the image and plot\n",
    "\n",
    "# FIND GOOD THRESHOLD\n",
    "thresholded_image = threshold(DoG_img, val=100)\n",
    "plt.imshow(thresholded_image, interpolation='none')\n",
    "plt.show()"
   ]
  },
  {
   "cell_type": "markdown",
   "metadata": {},
   "source": [
    "## 4) Now construct a Gabor receptive field on the same 21-by-21 pixel grid: \n",
    "\n",
    "  \\begin{equation}\n",
    "  D(\\vec{x}) = \\exp\\Big(-\\frac{(\\vec{k}(\\theta) \\cdot \\vec{x})^2}{2\\sigma_l^2} \n",
    "  -\\frac{(\\vec{k}_{\\perp}(\\theta) \\cdot \\vec{x})^2}{2\\sigma_w^2}\\Big)\n",
    "  \\cos\\Big(2\\pi \\frac{\\vec{k}_{\\perp}(\\theta) \\cdot \\vec{x}}{\\lambda}\n",
    "  + \\phi\\Big)\n",
    "  \\end{equation}\n",
    "  \n",
    "  where $\\vec{k}(\\theta)$ is a unit vector with the orientation $\\theta$, $\\vec{k}_{\\perp}(\\theta)$ is an orthogonal unit vector and $\\theta$, $\\sigma_l$, $\\sigma_w$, $\\lambda$ and $\\phi$ parametrise the Gabor.  Start with $\\theta = \\pi/2$, $\\sigma_l = \\sigma_w = 3$ pixels, $\\lambda = 6$ pixels and $\\phi = 0$."
   ]
  },
  {
   "cell_type": "code",
   "execution_count": null,
   "metadata": {},
   "outputs": [],
   "source": [
    "# define the gabor filter\n",
    "\n",
    "\n",
    "def gabor(x, theta=math.pi/2.0, sigma_l=3, sigma_w=3, lmbda=6, phi=0):\n",
    "    assert type(x) == np.ndarray and len(x) == 2, \"invalid x: must be a 2D vector\"\n",
    "    # FILL OUT\n",
    "    return 1"
   ]
  },
  {
   "cell_type": "code",
   "execution_count": null,
   "metadata": {},
   "outputs": [],
   "source": [
    "# plot the gabor receptive field\n",
    "\n",
    "n = 21\n",
    "gabor_RF = np.zeros((n, n))\n",
    "for x in range(-10, 11):\n",
    "    for y in range(-10, 11):\n",
    "        gabor_RF[x+10, y+10] = gabor(np.array([x, y]))\n",
    "plt.imshow(gabor_RF, interpolation='none', cmap=\"inferno\")\n",
    "plt.colorbar()\n",
    "plt.show()"
   ]
  },
  {
   "cell_type": "markdown",
   "metadata": {},
   "source": [
    "## 5) Show the image as seen by through receptive fields of this sort, again with one centred at each pixel in the image.  Threshold the activities."
   ]
  },
  {
   "cell_type": "code",
   "execution_count": null,
   "metadata": {},
   "outputs": [],
   "source": [
    "gabor_response = Convolve(image, gabor_RF)\n",
    "plt.imshow(gabor_response, interpolation='none')\n",
    "plt.colorbar()\n",
    "plt.show()"
   ]
  },
  {
   "cell_type": "code",
   "execution_count": null,
   "metadata": {},
   "outputs": [],
   "source": [
    "thres_gabor = threshold(r_gabor, 200.0)\n",
    "plt.imshow(thres_gabor, interpolation='none')\n",
    "plt.show()"
   ]
  },
  {
   "cell_type": "markdown",
   "metadata": {},
   "source": [
    "## 6) Construct 3 Gabors with $\\theta = 0, \\pi/4, \\pi/2$ and the other parameters as above.  Sum the thresholded outputs of all three types of cell.  Does this image look any better than that obtained by the RGC?  Why do you think this is?"
   ]
  },
  {
   "cell_type": "code",
   "execution_count": null,
   "metadata": {},
   "outputs": [],
   "source": [
    "# plot the three gabor filters\n",
    "\n",
    "gRFs = []\n",
    "fig, axs = plt.subplots(1, 3)\n",
    "for i,theta in enumerate([0, math.pi/4, math.pi/2]):\n",
    "    n = 21\n",
    "    gRF = np.zeros((n, n))\n",
    "    for x in range(-10, 11):\n",
    "        for y in range(-10, 11):\n",
    "            gRF[x+10, y+10] = gabor(np.array([x, y]), theta=theta)\n",
    "\n",
    "    gRFs.append(gRF)\n",
    "    axs[i].imshow(gRF, interpolation='none', cmap=\"inferno\")\n",
    "plt.show()"
   ]
  },
  {
   "cell_type": "code",
   "execution_count": null,
   "metadata": {},
   "outputs": [],
   "source": [
    "# get responses from 3 gabors and sum them (use gRFs - the three receptive fields)\n",
    "\n",
    "summed_response = 0 # FILL OUT\n",
    "\n",
    "plt.imshow(summed_response)\n",
    "plt.colorbar()\n",
    "plt.show()"
   ]
  },
  {
   "cell_type": "code",
   "execution_count": null,
   "metadata": {},
   "outputs": [],
   "source": []
  },
  {
   "cell_type": "code",
   "execution_count": null,
   "metadata": {},
   "outputs": [],
   "source": []
  }
 ],
 "metadata": {
  "kernelspec": {
   "display_name": "Python 3",
   "language": "python",
   "name": "python3"
  },
  "language_info": {
   "codemirror_mode": {
    "name": "ipython",
    "version": 3
   },
   "file_extension": ".py",
   "mimetype": "text/x-python",
   "name": "python",
   "nbconvert_exporter": "python",
   "pygments_lexer": "ipython3",
   "version": "3.7.6"
  }
 },
 "nbformat": 4,
 "nbformat_minor": 4
}
